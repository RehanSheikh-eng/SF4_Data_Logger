{
 "cells": [
  {
   "cell_type": "code",
   "execution_count": null,
   "id": "c1bca887",
   "metadata": {},
   "outputs": [
    {
     "data": {
      "image/png": "[encoded data removed]",
      "text/plain": [
       "<Figure size 432x288 with 1 Axes>"
      ]
     },
     "metadata": {
      "needs_background": "light"
     },
     "output_type": "display_data"
    }
   ],
   "source": [
    "import serial\n",
    "import matplotlib.pyplot as plt\n",
    "\n",
    "#Collecting data from serial port and convert to list of decimal integers\n",
    "\n",
    "arduinoSerialData = serial.Serial('com3',9600)\n",
    "StringData = arduinoSerialData.readline()\n",
    "ListData = StringData.split()\n",
    "DataIndices = range(len(ListData))\n",
    "for i in DataIndices:\n",
    "    ListData[i] = int(ListData[i])"
   ]
  },
  {
   "cell_type": "code",
   "execution_count": 2,
   "id": "697fbc91",
   "metadata": {},
   "outputs": [
    {
     "name": "stdout",
     "output_type": "stream",
     "text": [
      "b'\\r\\n'\n"
     ]
    }
   ],
   "source": [
    "print(StringData)"
   ]
  },
  {
   "cell_type": "code",
   "execution_count": null,
   "id": "1364e7cc",
   "metadata": {},
   "outputs": [],
   "source": [
    "#Creating plot from data\n",
    "    \n",
    "fig = plt.figure()\n",
    "ax = fig.add_subplot(1, 1, 1)\n",
    "ax.clear()\n",
    "ax.plot(DataIndices, ListData)\n",
    "plt.subplots_adjust(bottom=0.30)\n",
    "plt.title('Data over Time')\n",
    "plt.ylabel('Data samples')\n",
    "plt.show()"
   ]
  }
 ],
 "metadata": {
  "kernelspec": {
   "display_name": "Python 3.8.8 ('base')",
   "language": "python",
   "name": "python3"
  },
  "language_info": {
   "codemirror_mode": {
    "name": "ipython",
    "version": 3
   },
   "file_extension": ".py",
   "mimetype": "text/x-python",
   "name": "python",
   "nbconvert_exporter": "python",
   "pygments_lexer": "ipython3",
   "version": "3.8.8"
  },
  "vscode": {
   "interpreter": {
    "hash": "331439bad2d124c6e064146bd5c332e610184e52dc91df716b9aefcba69fcb07"
   }
  }
 },
 "nbformat": 4,
 "nbformat_minor": 5
}
