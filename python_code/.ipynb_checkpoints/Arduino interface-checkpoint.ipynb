{
 "cells": [
  {
   "cell_type": "code",
   "execution_count": null,
   "id": "c1bca887",
   "metadata": {},
   "outputs": [],
   "source": [
    "import serial\n",
    "import matplotlib.pyplot as plt\n",
    "\n",
    "#Collecting data from serial port and convert to list of decimal integers\n",
    "\n",
    "arduinoSerialData = serial.Serial(port='COM3', baudrate=9600)\n",
    "StringData = arduinoSerialData.readline()\n",
    "print(StringData)"
   ]
  },
  {
   "cell_type": "code",
   "execution_count": null,
   "id": "697fbc91",
   "metadata": {},
   "outputs": [],
   "source": [
    "#StringData = arduinoSerialData.readline()\n",
    "#ListData = StringData.split()\n",
    "#DataIndices = range(len(ListData))\n",
    "#for i in DataIndices:\n",
    "#    ListData[i] = int(ListData[i])\n",
    "\n",
    "#Creating plot from data\n",
    "    \n",
    "fig = plt.figure()\n",
    "ax = fig.add_subplot(1, 1, 1)\n",
    "ax.clear()\n",
    "ax.plot(range(len(line)), line)\n",
    "plt.subplots_adjust(bottom=0.30)\n",
    "plt.title('Data over Time')\n",
    "plt.ylabel('Data samples')\n",
    "plt.show()"
   ]
  },
  {
   "cell_type": "code",
   "execution_count": null,
   "id": "c9f45501",
   "metadata": {},
   "outputs": [],
   "source": []
  }
 ],
 "metadata": {
  "kernelspec": {
   "display_name": "Python 3",
   "language": "python",
   "name": "python3"
  },
  "language_info": {
   "codemirror_mode": {
    "name": "ipython",
    "version": 3
   },
   "file_extension": ".py",
   "mimetype": "text/x-python",
   "name": "python",
   "nbconvert_exporter": "python",
   "pygments_lexer": "ipython3",
   "version": "3.8.8"
  }
 },
 "nbformat": 4,
 "nbformat_minor": 5
}
